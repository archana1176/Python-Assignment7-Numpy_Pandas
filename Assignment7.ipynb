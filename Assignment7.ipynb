{
 "cells": [
  {
   "cell_type": "code",
   "execution_count": 25,
   "id": "46f70763-0754-47e0-8d9b-9c1b26a19d6c",
   "metadata": {},
   "outputs": [],
   "source": [
    "import numpy as np"
   ]
  },
  {
   "cell_type": "code",
   "execution_count": 21,
   "id": "4a7d6ea7-2e17-49de-b3c3-467ea19d85de",
   "metadata": {},
   "outputs": [
    {
     "name": "stdout",
     "output_type": "stream",
     "text": [
      "[[ 1  2  3  4  5]\n",
      " [ 6  7  8  9 10]]\n"
     ]
    }
   ],
   "source": [
    "#Exercise 1: Create a numpy array containing the numbers from 1 to 10, and then reshape it to a 2x5 matrix.\n",
    "a1=np.array([1,2,3,4,5,6,7,8,9,10])\n",
    "a1\n",
    "matrix=a1.reshape(2,5)\n",
    "print(matrix)\n",
    "\n",
    "\n"
   ]
  },
  {
   "cell_type": "code",
   "execution_count": 29,
   "id": "fa688253-5df6-4e96-8662-72402a9a23a9",
   "metadata": {},
   "outputs": [
    {
     "data": {
      "text/plain": [
       "array([ 1,  2,  3,  4,  5,  6,  7,  8,  9, 10, 11, 12, 13, 14, 15, 16, 17,\n",
       "       18, 19, 20])"
      ]
     },
     "execution_count": 29,
     "metadata": {},
     "output_type": "execute_result"
    }
   ],
   "source": [
    "#Exercise 2:Create a numpy array containing the numbers from 1 to 20, and then extract the elements between the 5th and 15th index.\n",
    "\n",
    "array1=np.arange(1,21)\n",
    "array1\n",
    "\n"
   ]
  },
  {
   "cell_type": "code",
   "execution_count": 31,
   "id": "1b67a0da-65f6-4c4e-9286-7f4f6a463149",
   "metadata": {},
   "outputs": [
    {
     "name": "stdout",
     "output_type": "stream",
     "text": [
      "[ 6  7  8  9 10 11 12 13 14 15 16]\n"
     ]
    }
   ],
   "source": [
    "print(array1[5:16])"
   ]
  },
  {
   "cell_type": "code",
   "execution_count": null,
   "id": "3ab98fce-dcd4-46b5-9923-f48df9ba40a6",
   "metadata": {},
   "outputs": [],
   "source": [
    "#Exercise 3: Create a Pandas series with the following data: {'apples': 3, 'bananas': 2, 'oranges': 1}. Then, add a new item to the series with the key 'pears' and the value 4."
   ]
  },
  {
   "cell_type": "code",
   "execution_count": 33,
   "id": "eae5fc58-d7b5-4d75-b24e-ecc9cd9dc7b5",
   "metadata": {},
   "outputs": [],
   "source": [
    "import pandas as pd"
   ]
  },
  {
   "cell_type": "code",
   "execution_count": 41,
   "id": "434aa129-a0cb-4327-a3c1-c0e9f251a80b",
   "metadata": {},
   "outputs": [
    {
     "data": {
      "text/plain": [
       "apples     3\n",
       "bananas    2\n",
       "oranges    1\n",
       "dtype: int64"
      ]
     },
     "execution_count": 41,
     "metadata": {},
     "output_type": "execute_result"
    }
   ],
   "source": [
    "data = {'apples': 3, 'bananas': 2, 'oranges': 1}\n",
    "series = pd.Series(data)\n",
    "series"
   ]
  },
  {
   "cell_type": "code",
   "execution_count": 43,
   "id": "314a3b30-2d2b-4d22-880c-a5436dd5cd6e",
   "metadata": {},
   "outputs": [
    {
     "name": "stdout",
     "output_type": "stream",
     "text": [
      "apples     3\n",
      "bananas    2\n",
      "oranges    1\n",
      "pears      4\n",
      "dtype: int64\n"
     ]
    }
   ],
   "source": [
    "series['pears'] = 4\n",
    "print(series)"
   ]
  },
  {
   "cell_type": "code",
   "execution_count": null,
   "id": "21a2fc51-f498-46cb-9840-d8220a0d48f4",
   "metadata": {},
   "outputs": [],
   "source": [
    "#Exercise 4:Create a dataframe with the following columns: name, age, and gender. The dataframe should have 10 rows of data."
   ]
  },
  {
   "cell_type": "code",
   "execution_count": 45,
   "id": "1f0bc91c-5337-49ed-9d4e-ff18e60ba9c8",
   "metadata": {},
   "outputs": [
    {
     "name": "stdout",
     "output_type": "stream",
     "text": [
      "       name  age  gender\n",
      "0   Archana   26  Female\n",
      "1    Anayra    2  Female\n",
      "2    Roshan   22    Male\n",
      "3    Anuraj   35    Male\n",
      "4     Thara   48  Female\n",
      "5    Naveen   40    Male\n",
      "6  Greeshma   23  Female\n",
      "7   Abirami   29  Female\n",
      "8    Vishnu   31    Male\n",
      "9    Sanjay   27    Male\n"
     ]
    }
   ],
   "source": [
    "\n",
    "data1 = {'name': ['Archana', 'Anayra', 'Roshan', 'Anuraj', 'Thara', 'Naveen', 'Greeshma', 'Abirami', 'Vishnu', 'Sanjay'],\n",
    "    'age': [26, 2, 22, 35, 48, 40, 23, 29, 31, 27],\n",
    "    'gender': ['Female', 'Female', 'Male', 'Male', 'Female', 'Male', 'Female', 'Female', 'Male', 'Male']}\n",
    "df = pd.DataFrame(data1)\n",
    "print(df)\n"
   ]
  },
  {
   "cell_type": "code",
   "execution_count": null,
   "id": "4411e4e8-3cd3-4f17-b136-536d0e19f3e2",
   "metadata": {},
   "outputs": [],
   "source": [
    "#Exercise 5:Add a new column to the data frame created in question 1, called occupation. The values for this column should be Programmer, Manager, and Analyst, corresponding to the rows in the dataframe."
   ]
  },
  {
   "cell_type": "code",
   "execution_count": 47,
   "id": "132f329d-4c97-49dd-a8a5-0e26958bf7a1",
   "metadata": {},
   "outputs": [
    {
     "name": "stdout",
     "output_type": "stream",
     "text": [
      "       name  age  gender  occupation\n",
      "0   Archana   26  Female  Programmer\n",
      "1    Anayra    2  Female     Manager\n",
      "2    Roshan   22    Male     Analyst\n",
      "3    Anuraj   35    Male  Programmer\n",
      "4     Thara   48  Female     Manager\n",
      "5    Naveen   40    Male     Analyst\n",
      "6  Greeshma   23  Female  Programmer\n",
      "7   Abirami   29  Female     Manager\n",
      "8    Vishnu   31    Male     Analyst\n",
      "9    Sanjay   27    Male  Programmer\n"
     ]
    }
   ],
   "source": [
    "occupations = ['Programmer', 'Manager', 'Analyst', 'Programmer', 'Manager', 'Analyst', 'Programmer', 'Manager', 'Analyst', 'Programmer']\n",
    "df['occupation'] = occupations\n",
    "\n",
    "print(df)"
   ]
  },
  {
   "cell_type": "code",
   "execution_count": null,
   "id": "2bc739ef-9c4e-41c3-9de8-333643dca92f",
   "metadata": {},
   "outputs": [],
   "source": [
    "Exercise 6: Select the rows of the dataframe where the age is greater than or equal to 30"
   ]
  },
  {
   "cell_type": "code",
   "execution_count": 49,
   "id": "49e72061-0957-477f-a61c-484608d6ff03",
   "metadata": {},
   "outputs": [
    {
     "name": "stdout",
     "output_type": "stream",
     "text": [
      "     name  age  gender  occupation\n",
      "3  Anuraj   35    Male  Programmer\n",
      "4   Thara   48  Female     Manager\n",
      "5  Naveen   40    Male     Analyst\n",
      "8  Vishnu   31    Male     Analyst\n"
     ]
    }
   ],
   "source": [
    "selected_rows = df[df['age'] >= 30]\n",
    "print(selected_rows)"
   ]
  },
  {
   "cell_type": "code",
   "execution_count": null,
   "id": "1a28af5f-bfe5-443a-bde3-95482a6bd830",
   "metadata": {},
   "outputs": [],
   "source": [
    " Exercise 7:  Convert this dataframe to a csv file and read that csv file, finally display the contents."
   ]
  },
  {
   "cell_type": "code",
   "execution_count": 57,
   "id": "02c0455f-34e7-4474-88a6-01f346981e9d",
   "metadata": {},
   "outputs": [
    {
     "name": "stdout",
     "output_type": "stream",
     "text": [
      "       name  age  gender  occupation\n",
      "0   Archana   26  Female  Programmer\n",
      "1    Anayra    2  Female     Manager\n",
      "2    Roshan   22    Male     Analyst\n",
      "3    Anuraj   35    Male  Programmer\n",
      "4     Thara   48  Female     Manager\n",
      "5    Naveen   40    Male     Analyst\n",
      "6  Greeshma   23  Female  Programmer\n",
      "7   Abirami   29  Female     Manager\n",
      "8    Vishnu   31    Male     Analyst\n",
      "9    Sanjay   27    Male  Programmer\n"
     ]
    }
   ],
   "source": [
    "df.to_csv('data1.csv', index=False)\n",
    "\n",
    "df_from_csv = pd.read_csv('data1.csv')\n",
    "print(df_from_csv)"
   ]
  },
  {
   "cell_type": "code",
   "execution_count": null,
   "id": "0a00ad0a-b3fd-4646-8832-7ca6cbd157d0",
   "metadata": {},
   "outputs": [],
   "source": []
  }
 ],
 "metadata": {
  "kernelspec": {
   "display_name": "Python 3 (ipykernel)",
   "language": "python",
   "name": "python3"
  },
  "language_info": {
   "codemirror_mode": {
    "name": "ipython",
    "version": 3
   },
   "file_extension": ".py",
   "mimetype": "text/x-python",
   "name": "python",
   "nbconvert_exporter": "python",
   "pygments_lexer": "ipython3",
   "version": "3.12.7"
  }
 },
 "nbformat": 4,
 "nbformat_minor": 5
}
